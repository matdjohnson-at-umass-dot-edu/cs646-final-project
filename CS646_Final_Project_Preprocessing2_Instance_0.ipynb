{
  "cells": [
    {
      "cell_type": "markdown",
      "metadata": {
        "id": "view-in-github",
        "colab_type": "text"
      },
      "source": [
        "<a href=\"https://colab.research.google.com/github/matdjohnson-at-umass-dot-edu/cs646-final-project/blob/main/CS646_Final_Project_Preprocessing2_Instance_0.ipynb\" target=\"_parent\"><img src=\"https://colab.research.google.com/assets/colab-badge.svg\" alt=\"Open In Colab\"/></a>"
      ]
    },
    {
      "cell_type": "code",
      "execution_count": null,
      "metadata": {
        "colab": {
          "base_uri": "https://localhost:8080/"
        },
        "id": "8fMWHdCYWmdb",
        "outputId": "7c5f1b30-39f9-4ebb-937c-695a04b043e2"
      },
      "outputs": [
        {
          "output_type": "stream",
          "name": "stdout",
          "text": [
            "Collecting datasets\n",
            "  Downloading datasets-3.1.0-py3-none-any.whl.metadata (20 kB)\n",
            "Requirement already satisfied: filelock in /usr/local/lib/python3.10/dist-packages (from datasets) (3.16.1)\n",
            "Requirement already satisfied: numpy>=1.17 in /usr/local/lib/python3.10/dist-packages (from datasets) (1.26.4)\n",
            "Requirement already satisfied: pyarrow>=15.0.0 in /usr/local/lib/python3.10/dist-packages (from datasets) (17.0.0)\n",
            "Collecting dill<0.3.9,>=0.3.0 (from datasets)\n",
            "  Downloading dill-0.3.8-py3-none-any.whl.metadata (10 kB)\n",
            "Requirement already satisfied: pandas in /usr/local/lib/python3.10/dist-packages (from datasets) (2.2.2)\n",
            "Requirement already satisfied: requests>=2.32.2 in /usr/local/lib/python3.10/dist-packages (from datasets) (2.32.3)\n",
            "Requirement already satisfied: tqdm>=4.66.3 in /usr/local/lib/python3.10/dist-packages (from datasets) (4.66.6)\n",
            "Collecting xxhash (from datasets)\n",
            "  Downloading xxhash-3.5.0-cp310-cp310-manylinux_2_17_x86_64.manylinux2014_x86_64.whl.metadata (12 kB)\n",
            "Collecting multiprocess<0.70.17 (from datasets)\n",
            "  Downloading multiprocess-0.70.16-py310-none-any.whl.metadata (7.2 kB)\n",
            "Collecting fsspec<=2024.9.0,>=2023.1.0 (from fsspec[http]<=2024.9.0,>=2023.1.0->datasets)\n",
            "  Downloading fsspec-2024.9.0-py3-none-any.whl.metadata (11 kB)\n",
            "Requirement already satisfied: aiohttp in /usr/local/lib/python3.10/dist-packages (from datasets) (3.11.2)\n",
            "Requirement already satisfied: huggingface-hub>=0.23.0 in /usr/local/lib/python3.10/dist-packages (from datasets) (0.26.2)\n",
            "Requirement already satisfied: packaging in /usr/local/lib/python3.10/dist-packages (from datasets) (24.2)\n",
            "Requirement already satisfied: pyyaml>=5.1 in /usr/local/lib/python3.10/dist-packages (from datasets) (6.0.2)\n",
            "Requirement already satisfied: aiohappyeyeballs>=2.3.0 in /usr/local/lib/python3.10/dist-packages (from aiohttp->datasets) (2.4.3)\n",
            "Requirement already satisfied: aiosignal>=1.1.2 in /usr/local/lib/python3.10/dist-packages (from aiohttp->datasets) (1.3.1)\n",
            "Requirement already satisfied: attrs>=17.3.0 in /usr/local/lib/python3.10/dist-packages (from aiohttp->datasets) (24.2.0)\n",
            "Requirement already satisfied: frozenlist>=1.1.1 in /usr/local/lib/python3.10/dist-packages (from aiohttp->datasets) (1.5.0)\n",
            "Requirement already satisfied: multidict<7.0,>=4.5 in /usr/local/lib/python3.10/dist-packages (from aiohttp->datasets) (6.1.0)\n",
            "Requirement already satisfied: propcache>=0.2.0 in /usr/local/lib/python3.10/dist-packages (from aiohttp->datasets) (0.2.0)\n",
            "Requirement already satisfied: yarl<2.0,>=1.17.0 in /usr/local/lib/python3.10/dist-packages (from aiohttp->datasets) (1.17.2)\n",
            "Requirement already satisfied: async-timeout<6.0,>=4.0 in /usr/local/lib/python3.10/dist-packages (from aiohttp->datasets) (4.0.3)\n",
            "Requirement already satisfied: typing-extensions>=3.7.4.3 in /usr/local/lib/python3.10/dist-packages (from huggingface-hub>=0.23.0->datasets) (4.12.2)\n",
            "Requirement already satisfied: charset-normalizer<4,>=2 in /usr/local/lib/python3.10/dist-packages (from requests>=2.32.2->datasets) (3.4.0)\n",
            "Requirement already satisfied: idna<4,>=2.5 in /usr/local/lib/python3.10/dist-packages (from requests>=2.32.2->datasets) (3.10)\n",
            "Requirement already satisfied: urllib3<3,>=1.21.1 in /usr/local/lib/python3.10/dist-packages (from requests>=2.32.2->datasets) (2.2.3)\n",
            "Requirement already satisfied: certifi>=2017.4.17 in /usr/local/lib/python3.10/dist-packages (from requests>=2.32.2->datasets) (2024.8.30)\n",
            "Requirement already satisfied: python-dateutil>=2.8.2 in /usr/local/lib/python3.10/dist-packages (from pandas->datasets) (2.8.2)\n",
            "Requirement already satisfied: pytz>=2020.1 in /usr/local/lib/python3.10/dist-packages (from pandas->datasets) (2024.2)\n",
            "Requirement already satisfied: tzdata>=2022.7 in /usr/local/lib/python3.10/dist-packages (from pandas->datasets) (2024.2)\n",
            "Requirement already satisfied: six>=1.5 in /usr/local/lib/python3.10/dist-packages (from python-dateutil>=2.8.2->pandas->datasets) (1.16.0)\n",
            "Downloading datasets-3.1.0-py3-none-any.whl (480 kB)\n",
            "\u001b[2K   \u001b[90m━━━━━━━━━━━━━━━━━━━━━━━━━━━━━━━━━━━━━━━━\u001b[0m \u001b[32m480.6/480.6 kB\u001b[0m \u001b[31m10.1 MB/s\u001b[0m eta \u001b[36m0:00:00\u001b[0m\n",
            "\u001b[?25hDownloading dill-0.3.8-py3-none-any.whl (116 kB)\n",
            "\u001b[2K   \u001b[90m━━━━━━━━━━━━━━━━━━━━━━━━━━━━━━━━━━━━━━━━\u001b[0m \u001b[32m116.3/116.3 kB\u001b[0m \u001b[31m7.9 MB/s\u001b[0m eta \u001b[36m0:00:00\u001b[0m\n",
            "\u001b[?25hDownloading fsspec-2024.9.0-py3-none-any.whl (179 kB)\n",
            "\u001b[2K   \u001b[90m━━━━━━━━━━━━━━━━━━━━━━━━━━━━━━━━━━━━━━━━\u001b[0m \u001b[32m179.3/179.3 kB\u001b[0m \u001b[31m11.4 MB/s\u001b[0m eta \u001b[36m0:00:00\u001b[0m\n",
            "\u001b[?25hDownloading multiprocess-0.70.16-py310-none-any.whl (134 kB)\n",
            "\u001b[2K   \u001b[90m━━━━━━━━━━━━━━━━━━━━━━━━━━━━━━━━━━━━━━━━\u001b[0m \u001b[32m134.8/134.8 kB\u001b[0m \u001b[31m11.4 MB/s\u001b[0m eta \u001b[36m0:00:00\u001b[0m\n",
            "\u001b[?25hDownloading xxhash-3.5.0-cp310-cp310-manylinux_2_17_x86_64.manylinux2014_x86_64.whl (194 kB)\n",
            "\u001b[2K   \u001b[90m━━━━━━━━━━━━━━━━━━━━━━━━━━━━━━━━━━━━━━━━\u001b[0m \u001b[32m194.1/194.1 kB\u001b[0m \u001b[31m5.7 MB/s\u001b[0m eta \u001b[36m0:00:00\u001b[0m\n",
            "\u001b[?25hInstalling collected packages: xxhash, fsspec, dill, multiprocess, datasets\n",
            "  Attempting uninstall: fsspec\n",
            "    Found existing installation: fsspec 2024.10.0\n",
            "    Uninstalling fsspec-2024.10.0:\n",
            "      Successfully uninstalled fsspec-2024.10.0\n",
            "\u001b[31mERROR: pip's dependency resolver does not currently take into account all the packages that are installed. This behaviour is the source of the following dependency conflicts.\n",
            "gcsfs 2024.10.0 requires fsspec==2024.10.0, but you have fsspec 2024.9.0 which is incompatible.\u001b[0m\u001b[31m\n",
            "\u001b[0mSuccessfully installed datasets-3.1.0 dill-0.3.8 fsspec-2024.9.0 multiprocess-0.70.16 xxhash-3.5.0\n",
            "Requirement already satisfied: transformers in /usr/local/lib/python3.10/dist-packages (4.46.2)\n",
            "Requirement already satisfied: filelock in /usr/local/lib/python3.10/dist-packages (from transformers) (3.16.1)\n",
            "Requirement already satisfied: huggingface-hub<1.0,>=0.23.2 in /usr/local/lib/python3.10/dist-packages (from transformers) (0.26.2)\n",
            "Requirement already satisfied: numpy>=1.17 in /usr/local/lib/python3.10/dist-packages (from transformers) (1.26.4)\n",
            "Requirement already satisfied: packaging>=20.0 in /usr/local/lib/python3.10/dist-packages (from transformers) (24.2)\n",
            "Requirement already satisfied: pyyaml>=5.1 in /usr/local/lib/python3.10/dist-packages (from transformers) (6.0.2)\n",
            "Requirement already satisfied: regex!=2019.12.17 in /usr/local/lib/python3.10/dist-packages (from transformers) (2024.9.11)\n",
            "Requirement already satisfied: requests in /usr/local/lib/python3.10/dist-packages (from transformers) (2.32.3)\n",
            "Requirement already satisfied: safetensors>=0.4.1 in /usr/local/lib/python3.10/dist-packages (from transformers) (0.4.5)\n",
            "Requirement already satisfied: tokenizers<0.21,>=0.20 in /usr/local/lib/python3.10/dist-packages (from transformers) (0.20.3)\n",
            "Requirement already satisfied: tqdm>=4.27 in /usr/local/lib/python3.10/dist-packages (from transformers) (4.66.6)\n",
            "Requirement already satisfied: fsspec>=2023.5.0 in /usr/local/lib/python3.10/dist-packages (from huggingface-hub<1.0,>=0.23.2->transformers) (2024.9.0)\n",
            "Requirement already satisfied: typing-extensions>=3.7.4.3 in /usr/local/lib/python3.10/dist-packages (from huggingface-hub<1.0,>=0.23.2->transformers) (4.12.2)\n",
            "Requirement already satisfied: charset-normalizer<4,>=2 in /usr/local/lib/python3.10/dist-packages (from requests->transformers) (3.4.0)\n",
            "Requirement already satisfied: idna<4,>=2.5 in /usr/local/lib/python3.10/dist-packages (from requests->transformers) (3.10)\n",
            "Requirement already satisfied: urllib3<3,>=1.21.1 in /usr/local/lib/python3.10/dist-packages (from requests->transformers) (2.2.3)\n",
            "Requirement already satisfied: certifi>=2017.4.17 in /usr/local/lib/python3.10/dist-packages (from requests->transformers) (2024.8.30)\n",
            "Requirement already satisfied: psutil in /usr/local/lib/python3.10/dist-packages (5.9.5)\n"
          ]
        }
      ],
      "source": [
        "! pip install datasets\n",
        "! pip install transformers\n",
        "! pip install psutil"
      ]
    },
    {
      "cell_type": "code",
      "execution_count": null,
      "metadata": {
        "colab": {
          "base_uri": "https://localhost:8080/"
        },
        "id": "LrpT4Z8XV5dA",
        "outputId": "b3e6f109-aaa8-4185-c18f-96c6710584d7"
      },
      "outputs": [
        {
          "output_type": "stream",
          "name": "stdout",
          "text": [
            "Mounted at /content/drive\n"
          ]
        }
      ],
      "source": [
        "from datasets import concatenate_datasets, Dataset, disable_caching, disable_progress_bars\n",
        "from google.colab import drive\n",
        "from tqdm import tqdm\n",
        "import numpy as np\n",
        "import re\n",
        "import os\n",
        "import torch\n",
        "import time\n",
        "import gc\n",
        "import psutil\n",
        "\n",
        "disable_caching()\n",
        "disable_progress_bars()\n",
        "drive.mount('/content/drive')"
      ]
    },
    {
      "cell_type": "code",
      "execution_count": null,
      "metadata": {
        "id": "flqG3XuNWxyG"
      },
      "outputs": [],
      "source": [
        "class DatasetProcessor:\n",
        "    def __init__(self, dataset_dir_pattern, dataset_dirs, output_dir_suffix, embedding_manipulation_function):\n",
        "        self.dataset_parent_dir = '/content/drive/MyDrive/CS646-FinalProject/datasets/'\n",
        "        self.dataset_dir_pattern = re.compile(dataset_dir_pattern)\n",
        "        self.dataset_dirs = dataset_dirs\n",
        "        self.dataset_subsection_pattern = re.compile('subset_.*\\\\.parquet')\n",
        "        self.output_dir_suffix = output_dir_suffix\n",
        "        self.embedding_manipulation_function = embedding_manipulation_function\n",
        "        self.embedding_list = list()\n",
        "        self.dataset = None\n",
        "\n",
        "    def reshape_dataset_element(self, dataset_element):\n",
        "        dataset_element['embedding'] = torch.reshape(dataset_element['embedding'], (-1, 1024))\n",
        "        return dataset_element\n",
        "\n",
        "    def process_dataset(self):\n",
        "        # for dir in os.listdir(self.dataset_parent_dir):\n",
        "        #     if self.dataset_dir_pattern.match(dir) is not None:\n",
        "        timestamp = time.strftime(\"%Y-%m-%dT%H:%M:%S\", time.localtime())\n",
        "        log_file_path = self.dataset_parent_dir + f\"instance0_{timestamp}_compute_{self.output_dir_suffix}.log\"\n",
        "        for dir in self.dataset_dirs:\n",
        "            print(f\"reading dataset from directory {self.dataset_parent_dir + dir}\")\n",
        "            for file in os.listdir(self.dataset_parent_dir + dir):\n",
        "                if self.dataset_subsection_pattern.match(file) is not None:\n",
        "                    log_file = open(log_file_path, \"a\")\n",
        "                    timestamp = time.strftime(\"%Y-%m-%dT%H:%M:%S\", time.localtime())\n",
        "                    log_file.write(f\"{timestamp}: starting dataset='{dir}' file='{file}'\\n\")\n",
        "                    log_file.write(f\"{timestamp}: memory statistics: {psutil.Process().memory_info()}\\n\")\n",
        "                    log_file.close()\n",
        "                    self.dataset = Dataset.from_parquet(self.dataset_parent_dir + dir + f\"/{file}\")\n",
        "                    device = torch.device(\"cuda\" if torch.cuda.is_available() else \"cpu\")\n",
        "                    self.dataset = self.dataset.with_format(\"torch\", device=device)\n",
        "                    self.dataset = self.dataset.map(self.reshape_dataset_element)\n",
        "                    self.dataset = self.dataset.map(self.embedding_manipulation_function)\n",
        "                    self.dataset.to_parquet(self.dataset_parent_dir + dir + self.output_dir_suffix + f\"/{file}\")\n",
        "                    self.dataset.cleanup_cache_files()\n",
        "                    del self.dataset\n",
        "                    gc.collect()\n",
        "                    torch.cuda.empty_cache()\n",
        "                    log_file = open(log_file_path, \"a\")\n",
        "                    timestamp = time.strftime(\"%Y-%m-%dT%H:%M:%S\", time.localtime())\n",
        "                    log_file.write(f\"{timestamp}: completed dataset='{dir}' file='{file}'\\n\")\n",
        "                    log_file.write(f\"{timestamp}: memory statistics: {psutil.Process().memory_info()}\\n\")\n",
        "                    log_file.close()\n"
      ]
    },
    {
      "cell_type": "code",
      "execution_count": null,
      "metadata": {
        "colab": {
          "base_uri": "https://localhost:8080/"
        },
        "id": "UBIWFSV5lIw1",
        "outputId": "2b2de8f6-92d2-441f-cfee-e713f6d5f901"
      },
      "outputs": [
        {
          "output_type": "stream",
          "name": "stdout",
          "text": [
            "reading dataset from directory /content/drive/MyDrive/CS646-FinalProject/datasets/ms_marco_queries_in_qrel_embs_187500-250000\n",
            "reading dataset from directory /content/drive/MyDrive/CS646-FinalProject/datasets/ms_marco_queries_in_qrel_embs_250000-312500\n",
            "reading dataset from directory /content/drive/MyDrive/CS646-FinalProject/datasets/ms_marco_queries_in_qrel_embs_312500-375000\n",
            "reading dataset from directory /content/drive/MyDrive/CS646-FinalProject/datasets/ms_marco_queries_in_qrel_embs_375000-432500\n",
            "reading dataset from directory /content/drive/MyDrive/CS646-FinalProject/datasets/ms_marco_queries_in_qrel_embs_432500-500000\n",
            "reading dataset from directory /content/drive/MyDrive/CS646-FinalProject/datasets/ms_marco_queries_in_qrel_embs_500000-509962\n"
          ]
        }
      ],
      "source": [
        "dataset_dir_pattern = '^ms_marco_corpus_in_qrel_embs_[0-9]+-[0-9]+$'\n",
        "dataset_dirs = [\n",
        "    \"ms_marco_queries_in_qrel_embs_187500-250000\",\n",
        "    \"ms_marco_queries_in_qrel_embs_250000-312500\",\n",
        "    \"ms_marco_queries_in_qrel_embs_312500-375000\",\n",
        "    \"ms_marco_queries_in_qrel_embs_375000-432500\",\n",
        "    \"ms_marco_queries_in_qrel_embs_432500-500000\",\n",
        "    \"ms_marco_queries_in_qrel_embs_500000-509962\"\n",
        "]\n",
        "\n",
        "def average_embedding(dataset_element):\n",
        "    dataset_element['embedding'] = torch.mean(dataset_element['embedding'], dim=0)\n",
        "    return dataset_element\n",
        "\n",
        "dataset_processor = DatasetProcessor(dataset_dir_pattern, dataset_dirs, '_avg', average_embedding)\n",
        "dataset_processor.process_dataset()"
      ]
    },
    {
      "cell_type": "code",
      "execution_count": null,
      "metadata": {
        "id": "BfClaJvtoZKJ",
        "colab": {
          "base_uri": "https://localhost:8080/"
        },
        "outputId": "8a8f1c2e-d0bb-44b6-ffe6-48e8b5b0ba10"
      },
      "outputs": [
        {
          "output_type": "stream",
          "name": "stdout",
          "text": [
            "reading dataset from directory /content/drive/MyDrive/CS646-FinalProject/datasets/ms_marco_queries_in_qrel_embs_187500-250000\n",
            "reading dataset from directory /content/drive/MyDrive/CS646-FinalProject/datasets/ms_marco_queries_in_qrel_embs_250000-312500\n",
            "reading dataset from directory /content/drive/MyDrive/CS646-FinalProject/datasets/ms_marco_queries_in_qrel_embs_312500-375000\n",
            "reading dataset from directory /content/drive/MyDrive/CS646-FinalProject/datasets/ms_marco_queries_in_qrel_embs_375000-432500\n",
            "reading dataset from directory /content/drive/MyDrive/CS646-FinalProject/datasets/ms_marco_queries_in_qrel_embs_432500-500000\n",
            "reading dataset from directory /content/drive/MyDrive/CS646-FinalProject/datasets/ms_marco_queries_in_qrel_embs_500000-509962\n"
          ]
        }
      ],
      "source": [
        "def sum_embedding(dataset_element):\n",
        "    dataset_element['embedding'] = torch.sum(dataset_element['embedding'], dim=0)\n",
        "    return dataset_element\n",
        "\n",
        "dataset_processor = DatasetProcessor(dataset_dir_pattern, dataset_dirs, \"_sum\", sum_embedding)\n",
        "dataset_processor.process_dataset()"
      ]
    }
  ],
  "metadata": {
    "accelerator": "GPU",
    "colab": {
      "gpuType": "T4",
      "provenance": [],
      "include_colab_link": true
    },
    "kernelspec": {
      "display_name": "Python 3",
      "name": "python3"
    },
    "language_info": {
      "name": "python"
    }
  },
  "nbformat": 4,
  "nbformat_minor": 0
}